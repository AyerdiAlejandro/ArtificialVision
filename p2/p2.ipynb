{
 "cells": [
  {
   "cell_type": "markdown",
   "metadata": {},
   "source": [
    "# Computer vision - Laboratory"
   ]
  },
  {
   "cell_type": "markdown",
   "metadata": {},
   "source": [
    "==============================================================================================\n",
    "## Practicum 2: Filtering and edge detection\n",
    "\n",
    "=============================================================================================="
   ]
  },
  {
   "cell_type": "markdown",
   "metadata": {},
   "source": [
    "The main topics are:\n",
    "1. Convolution\n",
    "2. Image smoothing\n",
    "3. Edge detection\n",
    "4. Applications: Hybrid images and video anonimization\n",
    "\n",
    "In order to complete this practicum, the following concepts need to be understood: linear filters, histograms, convolutions, and edges.\n",
    "\n",
    "The following chapters of the book \"Computer Vision: Algorithms and Applications\" by Richard Szeliski provide additional information:\n",
    "* Chapter 3. Image processing: Point operators & linear filtering.\n",
    "* Chapter 4. Feature detection and matching: Edges."
   ]
  },
  {
   "cell_type": "markdown",
   "metadata": {},
   "source": [
    "### 2.1 Image processing with different scales and filters"
   ]
  },
  {
   "cell_type": "markdown",
   "metadata": {},
   "source": [
    "a) Read the image \"face.png\" and analyse its histogram. What is the histogram representing for an image?\n",
    "\n",
    "- Visualize the R, G, and B channels of the image.\n",
    "\n",
    "- Visualize the histogram of a color image with the following characteristics:\n",
    "\n",
    "    - Obtain the histogram with 8, 32, 64 and 256 bins. \n",
    "\n",
    "    - Visualize the histogram of each channel and the gray level image and compare them. Comment their difference (see image bellow as an example of histogram extraction).\n",
    "\n",
    "Note: What type should be the image in order to compute the histogram? Check using different bins for the histogram. \n",
    "\n",
    "Hint: the `exposure` module within the `skimage` library makes the histogram extraction easy!\n",
    "\n",
    "Help: [matplotlib image tutorial](https://matplotlib.org/users/image_tutorial.html)\n",
    "\n",
    "<img src='images_for_notebook/ex21a.png'>"
   ]
  },
  {
   "cell_type": "code",
   "execution_count": null,
   "metadata": {},
   "outputs": [],
   "source": []
  },
  {
   "cell_type": "markdown",
   "metadata": {},
   "source": [
    "b) Read the image `face.png` and convolve it with a horizontal mask `mask_h1d=[1,1,1,1,1,1,1,1,1,1,1,1,1,1,1]` after the mask normalization. Afterwards, substract the obtained image to the original one and save the new image. \n",
    "\n",
    "***To make your code legible, the resulted images should be shown in a 3x1 plot, with the following titles: a) 'Original image', b) 'Convolved image' and c) 'Difference with the original image'***\n",
    "\n",
    "Hint: the `convolve` command belongs to the library `ndimage` of `scipy`. \n",
    "\n",
    "- Observe and comment how the ***type*** and the ***range of values (max & min)*** changed when different operations have been applied on the image. \n",
    "\n",
    "- Plot the different images ((a)original image, (b)intermediate and (c)final) on a figure with multiple images. Put titles on the image plots to explain what each image represents. Is the type of the mask important for the convolution? How is the image changed after the convolution? You need to repeat several times the convolution. Moreover, you need to also use bigger masks in order to observe better the effect of it. Present at least 5 experiments commenting the results obtained and their differences.\n",
    "\n",
    "Note: Remember that `matplotlib.pyplot` automatically rescales the pixel values of the image before displaying them. Visualize with and without values range rescaling.\n",
    "\n",
    "Note: The command `convolve` performs a multidimensional convolution! A vector should be represented as: [[1,...1]]."
   ]
  },
  {
   "cell_type": "code",
   "execution_count": null,
   "metadata": {},
   "outputs": [],
   "source": []
  },
  {
   "cell_type": "markdown",
   "metadata": {},
   "source": [
    "c) Convolve the image with a vertical one-dimensional mask. Compute and visualize the 3 images (a,b,c).\n",
    "\n",
    "- Extract the image's histograms and visualize them. \n",
    "\n",
    "- Compare the results with those of the previous exercise. How does the image change?"
   ]
  },
  {
   "cell_type": "code",
   "execution_count": null,
   "metadata": {},
   "outputs": [],
   "source": []
  },
  {
   "cell_type": "markdown",
   "metadata": {},
   "source": [
    "d) Convolve the original image with a uniform `two-dimensional` mask of dimensions 15x15 and with all values set to 1. Compute and visualize the 3 images (a,b,c).\n",
    "\n",
    "- Extract the image's histograms and visualize them. \n",
    "\n",
    "- Compare the results with those of the previous exercise."
   ]
  },
  {
   "cell_type": "code",
   "execution_count": null,
   "metadata": {},
   "outputs": [],
   "source": []
  },
  {
   "cell_type": "markdown",
   "metadata": {},
   "source": [
    "e) Can we convolve a color image? \n",
    "\n",
    "Implement a 3-channel filter, apply it, visualize the 3 images (a, b and c) and comment the results obtained.\n",
    "\n",
    "Which is the result obtained when applying a single-channel filter channel by channel separately? Visualize again the three images (original, convolved and difference) and compare the results."
   ]
  },
  {
   "cell_type": "code",
   "execution_count": null,
   "metadata": {},
   "outputs": [],
   "source": []
  },
  {
   "cell_type": "markdown",
   "metadata": {},
   "source": [
    "Given a color image (im), what is the difference between ***a*** and ***b*** ?\n",
    "   \n",
    "*** a) ***\n",
    "\n",
    "im_2=np.array(im, dtype='float')\n",
    "\n",
    "\n",
    "*** b) ***\n",
    "\n",
    "im_2=np.array(im)\n",
    "\n",
    "\n",
    "im_2=img_as_float(im_2)"
   ]
  },
  {
   "cell_type": "code",
   "execution_count": null,
   "metadata": {},
   "outputs": [],
   "source": []
  },
  {
   "cell_type": "markdown",
   "metadata": {},
   "source": [
    "f) Change the size of the image a) reducing it 10 times ***and*** b) augmenting it two times. \n",
    "\n",
    "Observe if the histogram (i.e. nbins = 32) of the new images changed, and comment what happens and why. \n",
    "\n",
    "Apply the convolution on the three images with the same two dimensional uniform mask and comment the results.\n",
    "Note: Observe what is the output of the command `resize`.\n"
   ]
  },
  {
   "cell_type": "code",
   "execution_count": null,
   "metadata": {},
   "outputs": [],
   "source": []
  },
  {
   "cell_type": "markdown",
   "metadata": {},
   "source": [
    "### 2.2 Image processing with weighting and non-linear filters"
   ]
  },
  {
   "cell_type": "markdown",
   "metadata": {},
   "source": [
    "a) Generate the following kernels and apply them to the original image of the previous exercise:\n",
    "\n",
    "- Gaussian kernel with sigma = 1\n",
    "- Gaussian kernel with a different sigma value. Which is the most adequate value for keeping the main objects and structures of the image?\n",
    "- Median filter.\n",
    "\n",
    "Comment the effect of using different kinds of filters on the original image.\n",
    "\n",
    "Hint: use the skimage.filters function for creating the different filters."
   ]
  },
  {
   "cell_type": "code",
   "execution_count": null,
   "metadata": {},
   "outputs": [],
   "source": []
  },
  {
   "cell_type": "markdown",
   "metadata": {},
   "source": [
    "**(Optional)** Apply the smoothing on some other images and present their results."
   ]
  },
  {
   "cell_type": "markdown",
   "metadata": {},
   "source": [
    "### 2.3 Determine the optimal contour \n",
    "\n",
    "a) Load the 'logo.png' image and visualize its contours.\t\n",
    "\n",
    "Apply different contour extraction tecniques introduced during the theory session (prewitt, sobel and canny). Find the optimal parameteres for each of them.\n",
    "\n",
    "Use subplot and title to visualize the results.\n",
    "\n",
    "Which is the best countour detection technique? \n",
    "\n",
    "Which are the optimal parameters for this image? \n",
    "\n",
    "Is it necessary to normalize the mask as we do in the filtering applied for the smoothing? \n",
    "\n",
    "Hint: you can use skimage.feature.canny for applying the canny filter\n",
    "\n",
    "Optional: Superimpose the contours over the image."
   ]
  },
  {
   "cell_type": "code",
   "execution_count": null,
   "metadata": {},
   "outputs": [],
   "source": []
  },
  {
   "cell_type": "markdown",
   "metadata": {},
   "source": [
    "b)\tRepeate the experiment with other images, if you want you can use the ones included in the folder **images**. Comment if the parameters need to be changed for the different images.\n",
    "\n",
    "- Are the contours improved if the image is previously smoothed ? \n",
    "- Which are the limitations of the different images contour extraction?"
   ]
  },
  {
   "cell_type": "code",
   "execution_count": null,
   "metadata": {},
   "outputs": [],
   "source": []
  },
  {
   "cell_type": "markdown",
   "metadata": {},
   "source": [
    "d) Optional: How many different ways can the Sobel detector be applied? Apply it (in all possible ways), and visualize and compare the obtained results.\n"
   ]
  },
  {
   "cell_type": "markdown",
   "metadata": {
    "collapsed": true
   },
   "source": [
    "### 2.4 Applying smoothing in order to obtain hybrid images\n",
    "\n",
    "a) Given `Einstein.jpg` and `monroe.jpg` images, compute the hybrid image and visualize it (consult the theory slides for hybrid image definition).\n",
    "\n",
    "Hint: In order to highlight the effect, in the low frequency image you should define a lower sigma, while for the high frequency image you should use a higher one. "
   ]
  },
  {
   "cell_type": "code",
   "execution_count": null,
   "metadata": {},
   "outputs": [],
   "source": []
  },
  {
   "cell_type": "markdown",
   "metadata": {},
   "source": [
    "b) Combine both hybrid images and visualize them. Analyze which is the best way of showing it if our aim is to see Marylin Monroe. Additionally, rescale the image to different size and comment the results. Present the different visualizations of the experiment performed.\n",
    "\n",
    "Optional : compute hybrid images from other images. Apply it over color images."
   ]
  },
  {
   "cell_type": "code",
   "execution_count": null,
   "metadata": {},
   "outputs": [],
   "source": []
  },
  {
   "cell_type": "markdown",
   "metadata": {},
   "source": [
    "## 2.5 Anonimization of videos\n",
    "\n",
    "One of the important problems in Computer Vision as a science that manages data (images and videos) is the anonimization of persons appearing in them. Given the collection of images in the folder collection bigbang, smooth the images in order to make unrecognizible the faces of the persons. Display sequentially the original and the anonimized images.\n",
    "\n",
    "Help: \n",
    "\n",
    "- In order to read all images from a sequence, check the type [ImageCollection](http://scikit-image.org/docs/0.7.0/api/skimage.io.collection.html).\n",
    "\n",
    "- In order to animate a sequence of images, you can use the animation library of matplotlib (in particular, [FuncAnimation](https://matplotlib.org/api/animation_api.html). \n",
    "\n",
    "Note that the animation library does not work with %matplotlib inline visualizing in the same notebook the images. You should use the matplotlib nbagg plugin to visualize the sequence of images in a different window. To this purpose, write before animation the following line:\n",
    "\n",
    "% matplotlib nbagg\n",
    "\n"
   ]
  },
  {
   "cell_type": "markdown",
   "metadata": {},
   "source": [
    "**Delivery**\n",
    "\n",
    "Compressed file P2_Student1_Student2.zip that includes:\n",
    "\n",
    "   - The notebook P2_Student1_Student2.ipynb completed with the solutions to the exercises and their corresponding comments.\n",
    "   - The images used that are not provided in P2.zip.\n",
    "\n",
    "**Deadline** (Campus Virtual): October 17, 11:00 p.m.\n"
   ]
  },
  {
   "cell_type": "code",
   "execution_count": null,
   "metadata": {
    "collapsed": true
   },
   "outputs": [],
   "source": []
  }
 ],
 "metadata": {
  "celltoolbar": "Slideshow",
  "kernelspec": {
   "display_name": "Python 2",
   "language": "python",
   "name": "python2"
  },
  "language_info": {
   "codemirror_mode": {
    "name": "ipython",
    "version": 2
   },
   "file_extension": ".py",
   "mimetype": "text/x-python",
   "name": "python",
   "nbconvert_exporter": "python",
   "pygments_lexer": "ipython2",
   "version": "2.7.13"
  }
 },
 "nbformat": 4,
 "nbformat_minor": 2
}
